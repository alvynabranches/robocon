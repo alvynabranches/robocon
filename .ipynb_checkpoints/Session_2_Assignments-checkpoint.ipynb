{
 "cells": [
  {
   "cell_type": "markdown",
   "metadata": {},
   "source": [
    "# Assignment - Strings\n",
    "1. Concatenate a two strings, first one as it is, and 2nd one replicated by 5\n",
    "\n",
    "# Assignment - Tuples\n",
    "1. Make a new tuple adding .25 to a existing tuple of integers or float\n",
    "2. Make a new tuple finding the length of the existing tuple of string\n",
    "\n",
    "# Assignment - Lists\n",
    "1. Accessing Elements from lists (remember the indicing method used in strings)\n",
    "2. Print out every element of a list\n",
    "3. For a list of integers add 5 to every element\n",
    "4. For a list of integers add all the elements of it\n",
    "5. For a list of string concatenate up it with a list of string available in another list of string\n",
    "\n",
    "# Assignment - Sets\n",
    "1. Take a list of names of classmates starting with surname and make a set of it to get their roll no"
   ]
  },
  {
   "cell_type": "code",
   "execution_count": null,
   "metadata": {},
   "outputs": [],
   "source": []
  }
 ],
 "metadata": {
  "kernelspec": {
   "display_name": "Python 3",
   "language": "python",
   "name": "python3"
  },
  "language_info": {
   "codemirror_mode": {
    "name": "ipython",
    "version": 3
   },
   "file_extension": ".py",
   "mimetype": "text/x-python",
   "name": "python",
   "nbconvert_exporter": "python",
   "pygments_lexer": "ipython3",
   "version": "3.8.3"
  }
 },
 "nbformat": 4,
 "nbformat_minor": 4
}
